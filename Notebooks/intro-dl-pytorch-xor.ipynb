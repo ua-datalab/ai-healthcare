{
 "cells": [
  {
   "cell_type": "markdown",
   "id": "a188293a-305b-4bf0-8faa-108bc53ecb32",
   "metadata": {},
   "source": [
    "## Intro to Deep Learning with PyTorch\n",
    "### The XOR Problem\n",
    "\n",
    "Updated 08/21/2024 G. Chism, U of A InfoSci + DataLab"
   ]
  },
  {
   "cell_type": "markdown",
   "id": "07daf5f4-b486-460e-9497-95f687141d38",
   "metadata": {},
   "source": [
    "**Install required libraries**\n",
    "\n",
    "For this case we will import _PyTorch_, _sklearn_, _pandas_, and _numpy_.\n",
    "\n",
    "**To execute code Notebook cells:** Press _SHIFT+ENTER_"
   ]
  },
  {
   "cell_type": "code",
   "execution_count": null,
   "id": "fe207814-a7ba-44c7-9d54-448d6e885abe",
   "metadata": {},
   "outputs": [],
   "source": [
    "#!pip install -q torch\n",
    "#!pip install -q scikit-learn\n",
    "#!pip install -q pandas\n",
    "#!pip install -q numpy"
   ]
  },
  {
   "cell_type": "markdown",
   "id": "91a2d2a3",
   "metadata": {},
   "source": [
    "It's best practice to have all of the libraries loaded at the top of the page"
   ]
  },
  {
   "cell_type": "code",
   "execution_count": null,
   "id": "b4f5617b-9c41-4265-9c80-c87c37a31142",
   "metadata": {},
   "outputs": [],
   "source": [
    "# Import specific classes from PyTorch\n",
    "import torch\n",
    "import torch.nn as nn\n",
    "import torch.optim as optim\n",
    "from torch.utils.data import DataLoader, TensorDataset\n",
    "\n",
    "# Import preprocessing from Scikit-Learn\n",
    "from sklearn.preprocessing import StandardScaler\n",
    "\n",
    "# Import pandas and numpy\n",
    "import pandas as pd\n",
    "import numpy as np"
   ]
  }
 ],
 "metadata": {
  "kernelspec": {
   "display_name": "Python 3 (ipykernel)",
   "language": "python",
   "name": "python3"
  },
  "language_info": {
   "codemirror_mode": {
    "name": "ipython",
    "version": 3
   },
   "file_extension": ".py",
   "mimetype": "text/x-python",
   "name": "python",
   "nbconvert_exporter": "python",
   "pygments_lexer": "ipython3",
   "version": "3.12.4"
  }
 },
 "nbformat": 4,
 "nbformat_minor": 5
}
